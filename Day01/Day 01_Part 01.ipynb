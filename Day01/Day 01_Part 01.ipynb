{
 "cells": [
  {
   "cell_type": "code",
   "execution_count": 9,
   "metadata": {},
   "outputs": [
    {
     "name": "stdout",
     "output_type": "stream",
     "text": [
      "[2, 2, 654, 33583]\n"
     ]
    }
   ],
   "source": [
    "#Prototyp of the task\n",
    "inputs = [12,14,1969,100756]\n",
    "solutions  = []\n",
    "for input in inputs:\n",
    "    mass = input\n",
    "    fuel = int(mass/3)-2\n",
    "    solutions.append(fuel)\n",
    "print(solutions)\n"
   ]
  },
  {
   "cell_type": "code",
   "execution_count": 13,
   "metadata": {},
   "outputs": [
    {
     "name": "stdout",
     "output_type": "stream",
     "text": [
      "3412094\n"
     ]
    }
   ],
   "source": [
    "with open(\"inputDay01.txt\", \"r\") as inputs: \n",
    "    solutions  = []\n",
    "    for input in inputs:\n",
    "        mass = int(input)\n",
    "        fuel = int(mass/3)-2\n",
    "        solutions.append(fuel)\n",
    "    print(sum(solutions))"
   ]
  }
 ],
 "metadata": {
  "kernelspec": {
   "display_name": "Python 3",
   "language": "python",
   "name": "python3"
  },
  "language_info": {
   "codemirror_mode": {
    "name": "ipython",
    "version": 3
   },
   "file_extension": ".py",
   "mimetype": "text/x-python",
   "name": "python",
   "nbconvert_exporter": "python",
   "pygments_lexer": "ipython3",
   "version": "3.7.1"
  }
 },
 "nbformat": 4,
 "nbformat_minor": 2
}
