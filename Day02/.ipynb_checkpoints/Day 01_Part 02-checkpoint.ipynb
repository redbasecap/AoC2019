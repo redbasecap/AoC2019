{
 "cells": [
  {
   "cell_type": "code",
   "execution_count": 44,
   "metadata": {},
   "outputs": [
    {
     "name": "stdout",
     "output_type": "stream",
     "text": [
      "50346\n"
     ]
    }
   ],
   "source": [
    "#Prototyp of the task\n",
    "inputs = [100756]\n",
    "solutions  = []\n",
    "\n",
    "for input in inputs:\n",
    "    mass = int(input)\n",
    "    while mass > 2:\n",
    "        fuel = int(mass/3)-2 \n",
    "        if fuel < 0:\n",
    "            fuel = 0\n",
    "        mass = fuel\n",
    "        solutions.append(fuel)\n",
    "print(sum(solutions))\n"
   ]
  },
  {
   "cell_type": "code",
   "execution_count": 46,
   "metadata": {},
   "outputs": [
    {
     "name": "stdout",
     "output_type": "stream",
     "text": [
      "5115267\n"
     ]
    }
   ],
   "source": [
    "with open(\"inputDay01.txt\", \"r\") as inputs: \n",
    "    solutions  = []\n",
    "    for input in inputs:\n",
    "        mass = int(input)\n",
    "        while mass > 2:\n",
    "            fuel = int(mass/3)-2 \n",
    "            if fuel < 0:\n",
    "                fuel = 0\n",
    "            mass = fuel\n",
    "            solutions.append(fuel)\n",
    "print(sum(solutions))"
   ]
  }
 ],
 "metadata": {
  "kernelspec": {
   "display_name": "Python 3",
   "language": "python",
   "name": "python3"
  },
  "language_info": {
   "codemirror_mode": {
    "name": "ipython",
    "version": 3
   },
   "file_extension": ".py",
   "mimetype": "text/x-python",
   "name": "python",
   "nbconvert_exporter": "python",
   "pygments_lexer": "ipython3",
   "version": "3.7.1"
  }
 },
 "nbformat": 4,
 "nbformat_minor": 2
}
