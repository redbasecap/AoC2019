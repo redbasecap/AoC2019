{
 "cells": [
  {
   "cell_type": "code",
   "execution_count": 56,
   "metadata": {},
   "outputs": [
    {
     "name": "stdout",
     "output_type": "stream",
     "text": [
      "[30, 1, 1, 4, 2, 5, 6, 0, 99]\n"
     ]
    }
   ],
   "source": [
    "#Prototyp of the task\n",
    "inputs = [1,1,1,4,99,5,6,0,99]\n",
    "pos = 0\n",
    "while(1):\n",
    "    if inputs[pos] == 1:\n",
    "        in1 = inputs[pos+1]\n",
    "        in2 = inputs[pos+2]\n",
    "        out = inputs[pos+3]\n",
    "        inputs[out] = inputs[in1] + inputs[in2]\n",
    "    \n",
    "    elif inputs[pos] == 2:\n",
    "        in1 = inputs[pos+1]\n",
    "        in2 = inputs[pos+2]\n",
    "        out = inputs[pos+3]\n",
    "        inputs[out] = inputs[in1] * inputs[in2]\n",
    "    \n",
    "    elif inputs[pos] == 99:\n",
    "        break\n",
    "    pos += 4\n",
    "    \n",
    "\n",
    "print(inputs)"
   ]
  },
  {
   "cell_type": "code",
   "execution_count": 65,
   "metadata": {},
   "outputs": [
    {
     "name": "stdout",
     "output_type": "stream",
     "text": [
      "4570637\n"
     ]
    }
   ],
   "source": [
    "#Prototyp of the task with manual input\n",
    "inputs = [1,0,0,3,1,1,2,3,1,3,4,3,1,5,0,3,2,6,1,19,1,19,5,23,2,10,23,27,2,27,13,31,1,10,31,35,1,35,9,39,2,39,13,43,1,43,5,47,1,47,6,51,2,6,51,55,1,5,55,59,2,9,59,63,2,6,63,67,1,13,67,71,1,9,71,75,2,13,75,79,1,79,10,83,2,83,9,87,1,5,87,91,2,91,6,95,2,13,95,99,1,99,5,103,1,103,2,107,1,107,10,0,99,2,0,14,0]   \n",
    "\n",
    "##Initalisation to restore the state befor \"1202 program alarm\"\n",
    "# before running the program, replace position 1 with the value 12 \n",
    "# and replace position 2 with the value 2.\n",
    "# What value is left at position 0 after the program halts?\n",
    "\n",
    "inputs[1] = 12\n",
    "inputs[2] = 2\n",
    "\n",
    "\n",
    "pos = 0\n",
    "while(1):\n",
    "    if inputs[pos] == 1:\n",
    "        in1 = inputs[pos+1]\n",
    "        in2 = inputs[pos+2]\n",
    "        out = inputs[pos+3]\n",
    "        inputs[out] = inputs[in1] + inputs[in2]\n",
    "    \n",
    "    elif inputs[pos] == 2:\n",
    "        in1 = inputs[pos+1]\n",
    "        in2 = inputs[pos+2]\n",
    "        out = inputs[pos+3]\n",
    "        inputs[out] = inputs[in1] * inputs[in2]\n",
    "    \n",
    "    elif inputs[pos] == 99:\n",
    "        break\n",
    "    pos += 4\n",
    "    \n",
    "\n",
    "print(inputs[0])"
   ]
  },
  {
   "cell_type": "code",
   "execution_count": 62,
   "metadata": {},
   "outputs": [
    {
     "name": "stdout",
     "output_type": "stream",
     "text": [
      "4570637\n"
     ]
    }
   ],
   "source": [
    "with open(\"inputDay02.txt\", \"r\") as f: \n",
    "    inputs = []\n",
    "    #inputs = [1,0,0,3,1,1,2,3,1,3,4,3,1,5,0,3,2,6,1,19,1,19,5,23,2,10,23,27,2,27,13,31,1,10,31,35,1,35,9,39,2,39,13,43,1,43,5,47,1,47,6,51,2,6,51,55,1,5,55,59,2,9,59,63,2,6,63,67,1,13,67,71,1,9,71,75,2,13,75,79,1,79,10,83,2,83,9,87,1,5,87,91,2,91,6,95,2,13,95,99,1,99,5,103,1,103,2,107,1,107,10,0,99,2,0,14,0]\n",
    "    for number in f.read().split(\",\"):\n",
    "        inputs.append(int(number))\n",
    "        \n",
    "    ##Initalisation to restore the state befor \"1202 program alarm\"\n",
    "    # before running the program, replace position 1 with the value 12 \n",
    "    # and replace position 2 with the value 2.\n",
    "    # What value is left at position 0 after the program halts?\n",
    "    \n",
    "    inputs[1] = 12\n",
    "    inputs[2] = 2\n",
    "    \n",
    "    ##The Main programm\n",
    "    pos = 0\n",
    "    while(1):\n",
    "        if inputs[pos] == 1:\n",
    "            in1 = inputs[pos+1]\n",
    "            in2 = inputs[pos+2]\n",
    "            out = inputs[pos+3]\n",
    "            inputs[out] = inputs[in1] + inputs[in2]\n",
    "\n",
    "        elif inputs[pos] == 2:\n",
    "            in1 = inputs[pos+1]\n",
    "            in2 = inputs[pos+2]\n",
    "            out = inputs[pos+3]\n",
    "            inputs[out] = inputs[in1] * inputs[in2]\n",
    "\n",
    "        elif inputs[pos] == 99:\n",
    "            break\n",
    "        pos += 4\n",
    "\n",
    "    print(inputs[0])\n",
    "\n"
   ]
  }
 ],
 "metadata": {
  "kernelspec": {
   "display_name": "Python 3",
   "language": "python",
   "name": "python3"
  },
  "language_info": {
   "codemirror_mode": {
    "name": "ipython",
    "version": 3
   },
   "file_extension": ".py",
   "mimetype": "text/x-python",
   "name": "python",
   "nbconvert_exporter": "python",
   "pygments_lexer": "ipython3",
   "version": "3.7.1"
  }
 },
 "nbformat": 4,
 "nbformat_minor": 2
}
