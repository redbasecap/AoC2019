{
 "cells": [
  {
   "cell_type": "code",
   "execution_count": 82,
   "metadata": {},
   "outputs": [],
   "source": [
    "from itertools import combinations\n",
    "with open(\"inputDay02.txt\", \"r\") as f: \n",
    "    inputs_orig = [int(i) for i in f.read().split(\",\")]\n",
    "\n",
    "#Input preparation of the first part\n",
    "test = inputs_orig.copy()\n",
    "test[1:3] = [12,2]\n",
    "    \n",
    "def part_one(inputs):\n",
    "    ##The Main programm\n",
    "    pos = 0\n",
    "    while(1):\n",
    "        if inputs[pos] == 1:\n",
    "            in1 = inputs[pos+1]\n",
    "            in2 = inputs[pos+2]\n",
    "            out = inputs[pos+3]\n",
    "            inputs[out] = inputs[in1] + inputs[in2]\n",
    "        elif inputs[pos] == 2:\n",
    "            in1 = inputs[pos+1]\n",
    "            in2 = inputs[pos+2]\n",
    "            out = inputs[pos+3]\n",
    "            inputs[out] = inputs[in1] * inputs[in2]\n",
    "        \n",
    "        elif inputs[pos] == 99:\n",
    "            break\n",
    "        \n",
    "        pos += 4\n",
    "\n",
    "    return(inputs[0])\n",
    "\n",
    "def part_two():\n",
    "    for noun, verb in combinations(range(100),2):\n",
    "        test = inputs_orig.copy()\n",
    "        test[1:3] = [noun, verb]\n",
    "        if(part_one(test) == 19690720):\n",
    "            return(100 * noun + verb)\n"
   ]
  },
  {
   "cell_type": "code",
   "execution_count": 78,
   "metadata": {},
   "outputs": [
    {
     "data": {
      "text/plain": [
       "4570637"
      ]
     },
     "execution_count": 78,
     "metadata": {},
     "output_type": "execute_result"
    }
   ],
   "source": [
    "part_one(test)"
   ]
  },
  {
   "cell_type": "code",
   "execution_count": 87,
   "metadata": {},
   "outputs": [
    {
     "data": {
      "text/plain": [
       "5485"
      ]
     },
     "execution_count": 87,
     "metadata": {},
     "output_type": "execute_result"
    }
   ],
   "source": [
    "part_two()"
   ]
  },
  {
   "cell_type": "code",
   "execution_count": null,
   "metadata": {},
   "outputs": [],
   "source": []
  }
 ],
 "metadata": {
  "kernelspec": {
   "display_name": "Python 3",
   "language": "python",
   "name": "python3"
  },
  "language_info": {
   "codemirror_mode": {
    "name": "ipython",
    "version": 3
   },
   "file_extension": ".py",
   "mimetype": "text/x-python",
   "name": "python",
   "nbconvert_exporter": "python",
   "pygments_lexer": "ipython3",
   "version": "3.7.1"
  }
 },
 "nbformat": 4,
 "nbformat_minor": 2
}
