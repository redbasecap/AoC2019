{
 "cells": [
  {
   "cell_type": "code",
   "execution_count": 79,
   "metadata": {},
   "outputs": [
    {
     "name": "stdout",
     "output_type": "stream",
     "text": [
      "Die Lösung ist: 460 \n"
     ]
    }
   ],
   "source": [
    "#Day 4 Part 1\n",
    "#author redbasecap; thx to Joel Grus\n",
    "\n",
    "\"\"\"\n",
    "    It is a six-digit number.\n",
    "    The value is within the range given in your puzzle input.\n",
    "    Two adjacent digits are the same (like 22 in 122345).\n",
    "    Going from left to right, the digits never decrease; they only ever increase or stay the same (like 111123 or 135679).\n",
    "\n",
    "    111111 meets these criteria (double 11, never decreases).\n",
    "    223450 does not meet these criteria (decreasing pair of digits 50).\n",
    "    123789 does not meet these criteria (no double).\n",
    "\n",
    "\"\"\"\n",
    "\n",
    "#If you use typing.List you can't decide which types the values in the List have to be List[Int]\n",
    "from typing import List\n",
    "\n",
    "#Methode to get the digits commaseparated from a Inputnumber\n",
    "def digits(n: int, num_digits: int = 6) -> List[int]:\n",
    "    d = []\n",
    "    for _ in range(num_digits):\n",
    "        d.append(n%10)\n",
    "        n = n // 10\n",
    "    return list((reversed(d)))\n",
    "\n",
    "def is_increasing(ds: List[int]) -> bool:\n",
    "    return all(x <= y for x,y in zip(ds, ds[1:]))\n",
    "\n",
    "def adjacent_digits_same(ds: List[int]) -> bool:\n",
    "    return any(x == y for x,y in zip(ds, ds[1:]))\n",
    "\n",
    "def is_valid(n: int) -> bool:\n",
    "    d = digits(n)\n",
    "    return is_increasing(d) and adjacent_digits_same(d)\n",
    "\n",
    "#Testing\n",
    "\n",
    "assert is_valid(111111) == True\n",
    "assert is_valid(223450) == False\n",
    "assert is_valid(123789) == False\n",
    "\n",
    "#Puzzle Input\n",
    "LOW = 382345\n",
    "HIGH = 843167\n",
    "\n",
    "result = sum(is_valid(number) for number in range(LOW,HIGH))\n",
    "\n",
    "print(\"Die Lösung ist: {} \".format(result))"
   ]
  },
  {
   "cell_type": "code",
   "execution_count": null,
   "metadata": {},
   "outputs": [],
   "source": []
  }
 ],
 "metadata": {
  "kernelspec": {
   "display_name": "Python 3",
   "language": "python",
   "name": "python3"
  },
  "language_info": {
   "codemirror_mode": {
    "name": "ipython",
    "version": 3
   },
   "file_extension": ".py",
   "mimetype": "text/x-python",
   "name": "python",
   "nbconvert_exporter": "python",
   "pygments_lexer": "ipython3",
   "version": "3.7.1"
  }
 },
 "nbformat": 4,
 "nbformat_minor": 2
}
